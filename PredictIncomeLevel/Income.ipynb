{
 "cells": [
  {
   "cell_type": "markdown",
   "metadata": {},
   "source": [
    "# Adult Census Income\n",
    "## Predict whether income exceeds $50K/yr based on census data.\n",
    "Source: https://www.kaggle.com/uciml/adult-census-income/home"
   ]
  },
  {
   "cell_type": "markdown",
   "metadata": {},
   "source": [
    "# 1. Load Python libraries"
   ]
  },
  {
   "cell_type": "code",
   "execution_count": 1,
   "metadata": {},
   "outputs": [],
   "source": [
    "from sklearn.linear_model import LogisticRegression\n",
    "from sklearn.ensemble import RandomForestClassifier\n",
    "from sklearn.model_selection import train_test_split\n",
    "from sklearn.calibration import calibration_curve\n",
    "from sklearn.metrics import roc_curve, confusion_matrix\n",
    "import matplotlib.pyplot as plt\n",
    "import numpy as np\n",
    "import pandas as pd"
   ]
  },
  {
   "cell_type": "markdown",
   "metadata": {},
   "source": [
    "# 2. Load Dataset"
   ]
  },
  {
   "cell_type": "code",
   "execution_count": 2,
   "metadata": {},
   "outputs": [],
   "source": [
    "FileName = 'incomedata.csv'\n",
    "Data = pd.read_csv(FileName)"
   ]
  },
  {
   "cell_type": "markdown",
   "metadata": {},
   "source": [
    "### Add ID column"
   ]
  },
  {
   "cell_type": "code",
   "execution_count": 3,
   "metadata": {},
   "outputs": [],
   "source": [
    "Data.insert(0, 'ID', Data.index+1)"
   ]
  },
  {
   "cell_type": "markdown",
   "metadata": {},
   "source": [
    "# 3. Data Description\n",
    "### Fields, Data Types, Bastic Statistics"
   ]
  },
  {
   "cell_type": "code",
   "execution_count": 4,
   "metadata": {},
   "outputs": [
    {
     "data": {
      "text/html": [
       "<div>\n",
       "<style scoped>\n",
       "    .dataframe tbody tr th:only-of-type {\n",
       "        vertical-align: middle;\n",
       "    }\n",
       "\n",
       "    .dataframe tbody tr th {\n",
       "        vertical-align: top;\n",
       "    }\n",
       "\n",
       "    .dataframe thead th {\n",
       "        text-align: right;\n",
       "    }\n",
       "</style>\n",
       "<table border=\"1\" class=\"dataframe\">\n",
       "  <thead>\n",
       "    <tr style=\"text-align: right;\">\n",
       "      <th></th>\n",
       "      <th>count</th>\n",
       "      <th>unique</th>\n",
       "      <th>top</th>\n",
       "      <th>freq</th>\n",
       "      <th>mean</th>\n",
       "      <th>std</th>\n",
       "      <th>min</th>\n",
       "      <th>25%</th>\n",
       "      <th>50%</th>\n",
       "      <th>75%</th>\n",
       "      <th>max</th>\n",
       "      <th>DataType</th>\n",
       "    </tr>\n",
       "  </thead>\n",
       "  <tbody>\n",
       "    <tr>\n",
       "      <th>ID</th>\n",
       "      <td>32561</td>\n",
       "      <td>NaN</td>\n",
       "      <td>NaN</td>\n",
       "      <td>NaN</td>\n",
       "      <td>16281</td>\n",
       "      <td>9399.7</td>\n",
       "      <td>1</td>\n",
       "      <td>8141</td>\n",
       "      <td>16281</td>\n",
       "      <td>24421</td>\n",
       "      <td>32561</td>\n",
       "      <td>int64</td>\n",
       "    </tr>\n",
       "    <tr>\n",
       "      <th>age</th>\n",
       "      <td>32561</td>\n",
       "      <td>NaN</td>\n",
       "      <td>NaN</td>\n",
       "      <td>NaN</td>\n",
       "      <td>38.5816</td>\n",
       "      <td>13.6404</td>\n",
       "      <td>17</td>\n",
       "      <td>28</td>\n",
       "      <td>37</td>\n",
       "      <td>48</td>\n",
       "      <td>90</td>\n",
       "      <td>int64</td>\n",
       "    </tr>\n",
       "    <tr>\n",
       "      <th>workclass</th>\n",
       "      <td>32561</td>\n",
       "      <td>9</td>\n",
       "      <td>Private</td>\n",
       "      <td>22696</td>\n",
       "      <td>NaN</td>\n",
       "      <td>NaN</td>\n",
       "      <td>NaN</td>\n",
       "      <td>NaN</td>\n",
       "      <td>NaN</td>\n",
       "      <td>NaN</td>\n",
       "      <td>NaN</td>\n",
       "      <td>object</td>\n",
       "    </tr>\n",
       "    <tr>\n",
       "      <th>fnlwgt</th>\n",
       "      <td>32561</td>\n",
       "      <td>NaN</td>\n",
       "      <td>NaN</td>\n",
       "      <td>NaN</td>\n",
       "      <td>189778</td>\n",
       "      <td>105550</td>\n",
       "      <td>12285</td>\n",
       "      <td>117827</td>\n",
       "      <td>178356</td>\n",
       "      <td>237051</td>\n",
       "      <td>1.48470e+06</td>\n",
       "      <td>int64</td>\n",
       "    </tr>\n",
       "    <tr>\n",
       "      <th>education</th>\n",
       "      <td>32561</td>\n",
       "      <td>16</td>\n",
       "      <td>HS-grad</td>\n",
       "      <td>10501</td>\n",
       "      <td>NaN</td>\n",
       "      <td>NaN</td>\n",
       "      <td>NaN</td>\n",
       "      <td>NaN</td>\n",
       "      <td>NaN</td>\n",
       "      <td>NaN</td>\n",
       "      <td>NaN</td>\n",
       "      <td>object</td>\n",
       "    </tr>\n",
       "    <tr>\n",
       "      <th>education-num</th>\n",
       "      <td>32561</td>\n",
       "      <td>NaN</td>\n",
       "      <td>NaN</td>\n",
       "      <td>NaN</td>\n",
       "      <td>10.0807</td>\n",
       "      <td>2.57272</td>\n",
       "      <td>1</td>\n",
       "      <td>9</td>\n",
       "      <td>10</td>\n",
       "      <td>12</td>\n",
       "      <td>16</td>\n",
       "      <td>int64</td>\n",
       "    </tr>\n",
       "    <tr>\n",
       "      <th>marital-status</th>\n",
       "      <td>32561</td>\n",
       "      <td>7</td>\n",
       "      <td>Married-civ-spouse</td>\n",
       "      <td>14976</td>\n",
       "      <td>NaN</td>\n",
       "      <td>NaN</td>\n",
       "      <td>NaN</td>\n",
       "      <td>NaN</td>\n",
       "      <td>NaN</td>\n",
       "      <td>NaN</td>\n",
       "      <td>NaN</td>\n",
       "      <td>object</td>\n",
       "    </tr>\n",
       "    <tr>\n",
       "      <th>occupation</th>\n",
       "      <td>32561</td>\n",
       "      <td>15</td>\n",
       "      <td>Prof-specialty</td>\n",
       "      <td>4140</td>\n",
       "      <td>NaN</td>\n",
       "      <td>NaN</td>\n",
       "      <td>NaN</td>\n",
       "      <td>NaN</td>\n",
       "      <td>NaN</td>\n",
       "      <td>NaN</td>\n",
       "      <td>NaN</td>\n",
       "      <td>object</td>\n",
       "    </tr>\n",
       "    <tr>\n",
       "      <th>relationship</th>\n",
       "      <td>32561</td>\n",
       "      <td>6</td>\n",
       "      <td>Husband</td>\n",
       "      <td>13193</td>\n",
       "      <td>NaN</td>\n",
       "      <td>NaN</td>\n",
       "      <td>NaN</td>\n",
       "      <td>NaN</td>\n",
       "      <td>NaN</td>\n",
       "      <td>NaN</td>\n",
       "      <td>NaN</td>\n",
       "      <td>object</td>\n",
       "    </tr>\n",
       "    <tr>\n",
       "      <th>race</th>\n",
       "      <td>32561</td>\n",
       "      <td>5</td>\n",
       "      <td>White</td>\n",
       "      <td>27816</td>\n",
       "      <td>NaN</td>\n",
       "      <td>NaN</td>\n",
       "      <td>NaN</td>\n",
       "      <td>NaN</td>\n",
       "      <td>NaN</td>\n",
       "      <td>NaN</td>\n",
       "      <td>NaN</td>\n",
       "      <td>object</td>\n",
       "    </tr>\n",
       "    <tr>\n",
       "      <th>sex</th>\n",
       "      <td>32561</td>\n",
       "      <td>2</td>\n",
       "      <td>Male</td>\n",
       "      <td>21790</td>\n",
       "      <td>NaN</td>\n",
       "      <td>NaN</td>\n",
       "      <td>NaN</td>\n",
       "      <td>NaN</td>\n",
       "      <td>NaN</td>\n",
       "      <td>NaN</td>\n",
       "      <td>NaN</td>\n",
       "      <td>object</td>\n",
       "    </tr>\n",
       "    <tr>\n",
       "      <th>capital-gain</th>\n",
       "      <td>32561</td>\n",
       "      <td>NaN</td>\n",
       "      <td>NaN</td>\n",
       "      <td>NaN</td>\n",
       "      <td>1077.65</td>\n",
       "      <td>7385.29</td>\n",
       "      <td>0</td>\n",
       "      <td>0</td>\n",
       "      <td>0</td>\n",
       "      <td>0</td>\n",
       "      <td>99999</td>\n",
       "      <td>int64</td>\n",
       "    </tr>\n",
       "    <tr>\n",
       "      <th>capital-loss</th>\n",
       "      <td>32561</td>\n",
       "      <td>NaN</td>\n",
       "      <td>NaN</td>\n",
       "      <td>NaN</td>\n",
       "      <td>87.3038</td>\n",
       "      <td>402.96</td>\n",
       "      <td>0</td>\n",
       "      <td>0</td>\n",
       "      <td>0</td>\n",
       "      <td>0</td>\n",
       "      <td>4356</td>\n",
       "      <td>int64</td>\n",
       "    </tr>\n",
       "    <tr>\n",
       "      <th>hours-per-week</th>\n",
       "      <td>32561</td>\n",
       "      <td>NaN</td>\n",
       "      <td>NaN</td>\n",
       "      <td>NaN</td>\n",
       "      <td>40.4375</td>\n",
       "      <td>12.3474</td>\n",
       "      <td>1</td>\n",
       "      <td>40</td>\n",
       "      <td>40</td>\n",
       "      <td>45</td>\n",
       "      <td>99</td>\n",
       "      <td>int64</td>\n",
       "    </tr>\n",
       "    <tr>\n",
       "      <th>native-country</th>\n",
       "      <td>32561</td>\n",
       "      <td>42</td>\n",
       "      <td>United-States</td>\n",
       "      <td>29170</td>\n",
       "      <td>NaN</td>\n",
       "      <td>NaN</td>\n",
       "      <td>NaN</td>\n",
       "      <td>NaN</td>\n",
       "      <td>NaN</td>\n",
       "      <td>NaN</td>\n",
       "      <td>NaN</td>\n",
       "      <td>object</td>\n",
       "    </tr>\n",
       "    <tr>\n",
       "      <th>income</th>\n",
       "      <td>32561</td>\n",
       "      <td>2</td>\n",
       "      <td>&lt;=50K</td>\n",
       "      <td>24720</td>\n",
       "      <td>NaN</td>\n",
       "      <td>NaN</td>\n",
       "      <td>NaN</td>\n",
       "      <td>NaN</td>\n",
       "      <td>NaN</td>\n",
       "      <td>NaN</td>\n",
       "      <td>NaN</td>\n",
       "      <td>object</td>\n",
       "    </tr>\n",
       "  </tbody>\n",
       "</table>\n",
       "</div>"
      ],
      "text/plain": [
       "                count unique                 top   freq     mean      std  \\\n",
       "ID              32561    NaN                 NaN    NaN    16281   9399.7   \n",
       "age             32561    NaN                 NaN    NaN  38.5816  13.6404   \n",
       "workclass       32561      9             Private  22696      NaN      NaN   \n",
       "fnlwgt          32561    NaN                 NaN    NaN   189778   105550   \n",
       "education       32561     16             HS-grad  10501      NaN      NaN   \n",
       "education-num   32561    NaN                 NaN    NaN  10.0807  2.57272   \n",
       "marital-status  32561      7  Married-civ-spouse  14976      NaN      NaN   \n",
       "occupation      32561     15      Prof-specialty   4140      NaN      NaN   \n",
       "relationship    32561      6             Husband  13193      NaN      NaN   \n",
       "race            32561      5               White  27816      NaN      NaN   \n",
       "sex             32561      2                Male  21790      NaN      NaN   \n",
       "capital-gain    32561    NaN                 NaN    NaN  1077.65  7385.29   \n",
       "capital-loss    32561    NaN                 NaN    NaN  87.3038   402.96   \n",
       "hours-per-week  32561    NaN                 NaN    NaN  40.4375  12.3474   \n",
       "native-country  32561     42       United-States  29170      NaN      NaN   \n",
       "income          32561      2               <=50K  24720      NaN      NaN   \n",
       "\n",
       "                  min     25%     50%     75%          max DataType  \n",
       "ID                  1    8141   16281   24421        32561    int64  \n",
       "age                17      28      37      48           90    int64  \n",
       "workclass         NaN     NaN     NaN     NaN          NaN   object  \n",
       "fnlwgt          12285  117827  178356  237051  1.48470e+06    int64  \n",
       "education         NaN     NaN     NaN     NaN          NaN   object  \n",
       "education-num       1       9      10      12           16    int64  \n",
       "marital-status    NaN     NaN     NaN     NaN          NaN   object  \n",
       "occupation        NaN     NaN     NaN     NaN          NaN   object  \n",
       "relationship      NaN     NaN     NaN     NaN          NaN   object  \n",
       "race              NaN     NaN     NaN     NaN          NaN   object  \n",
       "sex               NaN     NaN     NaN     NaN          NaN   object  \n",
       "capital-gain        0       0       0       0        99999    int64  \n",
       "capital-loss        0       0       0       0         4356    int64  \n",
       "hours-per-week      1      40      40      45           99    int64  \n",
       "native-country    NaN     NaN     NaN     NaN          NaN   object  \n",
       "income            NaN     NaN     NaN     NaN          NaN   object  "
      ]
     },
     "execution_count": 4,
     "metadata": {},
     "output_type": "execute_result"
    }
   ],
   "source": [
    "DataStats = Data.describe(include='all').transpose()\n",
    "DataStats['DataType'] = Data.dtypes\n",
    "DataStats"
   ]
  },
  {
   "cell_type": "markdown",
   "metadata": {},
   "source": [
    "# 4. Prepare dataset for modeling"
   ]
  },
  {
   "cell_type": "markdown",
   "metadata": {},
   "source": [
    "## Inspect Categorical Variables"
   ]
  },
  {
   "cell_type": "code",
   "execution_count": 5,
   "metadata": {},
   "outputs": [
    {
     "data": {
      "text/plain": [
       "array(['?', 'Private', 'State-gov', 'Federal-gov', 'Self-emp-not-inc',\n",
       "       'Self-emp-inc', 'Local-gov', 'Without-pay', 'Never-worked'],\n",
       "      dtype=object)"
      ]
     },
     "execution_count": 5,
     "metadata": {},
     "output_type": "execute_result"
    }
   ],
   "source": [
    "Data.workclass.unique()"
   ]
  },
  {
   "cell_type": "code",
   "execution_count": 6,
   "metadata": {},
   "outputs": [
    {
     "data": {
      "text/plain": [
       "array(['HS-grad', 'Some-college', '7th-8th', '10th', 'Doctorate',\n",
       "       'Prof-school', 'Bachelors', 'Masters', '11th', 'Assoc-acdm',\n",
       "       'Assoc-voc', '1st-4th', '5th-6th', '12th', '9th', 'Preschool'],\n",
       "      dtype=object)"
      ]
     },
     "execution_count": 6,
     "metadata": {},
     "output_type": "execute_result"
    }
   ],
   "source": [
    "Data.education.unique()"
   ]
  },
  {
   "cell_type": "code",
   "execution_count": 7,
   "metadata": {
    "scrolled": true
   },
   "outputs": [
    {
     "data": {
      "text/plain": [
       "array(['?', 'Exec-managerial', 'Machine-op-inspct', 'Prof-specialty',\n",
       "       'Other-service', 'Adm-clerical', 'Craft-repair',\n",
       "       'Transport-moving', 'Handlers-cleaners', 'Sales',\n",
       "       'Farming-fishing', 'Tech-support', 'Protective-serv',\n",
       "       'Armed-Forces', 'Priv-house-serv'], dtype=object)"
      ]
     },
     "execution_count": 7,
     "metadata": {},
     "output_type": "execute_result"
    }
   ],
   "source": [
    "Data.occupation.unique()"
   ]
  },
  {
   "cell_type": "markdown",
   "metadata": {},
   "source": [
    "## Create Categorical Variables from continious variables"
   ]
  },
  {
   "cell_type": "code",
   "execution_count": 8,
   "metadata": {},
   "outputs": [],
   "source": [
    "AgeLabels = ['<20', '20-30', '30-40', '40-50', '50-60', '>60']\n",
    "AgeLabelsBins = [0, 20, 30, 40, 50, 60, np.inf]\n",
    "Data['AgeRange'] = pd.cut(Data.age, bins=AgeLabelsBins, labels=AgeLabels)"
   ]
  },
  {
   "cell_type": "code",
   "execution_count": 9,
   "metadata": {},
   "outputs": [],
   "source": [
    "HoursPerWeekLabels = ['<20', '20-40', '40-50', '50-60', '>60']\n",
    "HoursPerWeekLabelsBins = [0, 20, 40, 50, 60, np.inf]\n",
    "Data['HoursPerWeekRange'] = pd.cut(Data['hours-per-week'], bins=HoursPerWeekLabelsBins, labels=HoursPerWeekLabels)"
   ]
  },
  {
   "cell_type": "code",
   "execution_count": 10,
   "metadata": {},
   "outputs": [],
   "source": [
    "EducationNumLabels = ['<5', '5-10', '10-15', '>15']\n",
    "EducationNumBins = [0, 5, 10, 15, np.inf]\n",
    "Data['EducationNumRange'] = pd.cut(Data['education-num'], bins=EducationNumBins, labels=EducationNumLabels)"
   ]
  },
  {
   "cell_type": "code",
   "execution_count": 11,
   "metadata": {},
   "outputs": [],
   "source": [
    "FNLWGTLabels = ['<15k', '15k-100k', '100k-200k', '200k-300k','>300k']\n",
    "FNLWGTBins = [0, 15000, 100000, 200000, 300000, np.inf]\n",
    "Data['FNLWGTRange'] = pd.cut(Data['fnlwgt'], bins=FNLWGTBins, labels=FNLWGTLabels)"
   ]
  },
  {
   "cell_type": "markdown",
   "metadata": {},
   "source": [
    "## Identify Predictor variables (X) and Response variable (y)"
   ]
  },
  {
   "cell_type": "code",
   "execution_count": 12,
   "metadata": {},
   "outputs": [
    {
     "data": {
      "text/plain": [
       "Index(['ID', 'age', 'workclass', 'fnlwgt', 'education', 'education-num',\n",
       "       'marital-status', 'occupation', 'relationship', 'race', 'sex',\n",
       "       'capital-gain', 'capital-loss', 'hours-per-week', 'native-country',\n",
       "       'income', 'AgeRange', 'HoursPerWeekRange', 'EducationNumRange',\n",
       "       'FNLWGTRange'],\n",
       "      dtype='object')"
      ]
     },
     "execution_count": 12,
     "metadata": {},
     "output_type": "execute_result"
    }
   ],
   "source": [
    "Data.columns"
   ]
  },
  {
   "cell_type": "code",
   "execution_count": 13,
   "metadata": {},
   "outputs": [],
   "source": [
    "Variables = ['workclass', 'FNLWGTRange', 'education', 'marital-status', 'occupation', 'relationship', 'race', 'sex', 'AgeRange', 'HoursPerWeekRange', 'EducationNumRange', 'native-country']\n",
    "Response = 'income'"
   ]
  },
  {
   "cell_type": "markdown",
   "metadata": {},
   "source": [
    "## Create Modeling dataset"
   ]
  },
  {
   "cell_type": "code",
   "execution_count": 14,
   "metadata": {},
   "outputs": [
    {
     "data": {
      "text/html": [
       "<div>\n",
       "<style scoped>\n",
       "    .dataframe tbody tr th:only-of-type {\n",
       "        vertical-align: middle;\n",
       "    }\n",
       "\n",
       "    .dataframe tbody tr th {\n",
       "        vertical-align: top;\n",
       "    }\n",
       "\n",
       "    .dataframe thead th {\n",
       "        text-align: right;\n",
       "    }\n",
       "</style>\n",
       "<table border=\"1\" class=\"dataframe\">\n",
       "  <thead>\n",
       "    <tr style=\"text-align: right;\">\n",
       "      <th></th>\n",
       "      <th>ID</th>\n",
       "      <th>age</th>\n",
       "      <th>workclass</th>\n",
       "      <th>fnlwgt</th>\n",
       "      <th>education</th>\n",
       "      <th>education-num</th>\n",
       "      <th>marital-status</th>\n",
       "      <th>occupation</th>\n",
       "      <th>relationship</th>\n",
       "      <th>race</th>\n",
       "      <th>...</th>\n",
       "      <th>native-country_South</th>\n",
       "      <th>native-country_Taiwan</th>\n",
       "      <th>native-country_Thailand</th>\n",
       "      <th>native-country_Trinadad&amp;Tobago</th>\n",
       "      <th>native-country_United-States</th>\n",
       "      <th>native-country_Vietnam</th>\n",
       "      <th>native-country_Yugoslavia</th>\n",
       "      <th>CapitalGain</th>\n",
       "      <th>CapitalLoss</th>\n",
       "      <th>Response</th>\n",
       "    </tr>\n",
       "  </thead>\n",
       "  <tbody>\n",
       "    <tr>\n",
       "      <th>13142</th>\n",
       "      <td>13143</td>\n",
       "      <td>28</td>\n",
       "      <td>Private</td>\n",
       "      <td>394927</td>\n",
       "      <td>Some-college</td>\n",
       "      <td>10</td>\n",
       "      <td>Married-civ-spouse</td>\n",
       "      <td>Tech-support</td>\n",
       "      <td>Husband</td>\n",
       "      <td>White</td>\n",
       "      <td>...</td>\n",
       "      <td>0</td>\n",
       "      <td>0</td>\n",
       "      <td>0</td>\n",
       "      <td>0</td>\n",
       "      <td>1</td>\n",
       "      <td>0</td>\n",
       "      <td>0</td>\n",
       "      <td>0</td>\n",
       "      <td>0</td>\n",
       "      <td>1</td>\n",
       "    </tr>\n",
       "    <tr>\n",
       "      <th>23867</th>\n",
       "      <td>23868</td>\n",
       "      <td>45</td>\n",
       "      <td>Private</td>\n",
       "      <td>165484</td>\n",
       "      <td>Doctorate</td>\n",
       "      <td>16</td>\n",
       "      <td>Married-civ-spouse</td>\n",
       "      <td>Prof-specialty</td>\n",
       "      <td>Husband</td>\n",
       "      <td>White</td>\n",
       "      <td>...</td>\n",
       "      <td>0</td>\n",
       "      <td>0</td>\n",
       "      <td>0</td>\n",
       "      <td>0</td>\n",
       "      <td>1</td>\n",
       "      <td>0</td>\n",
       "      <td>0</td>\n",
       "      <td>0</td>\n",
       "      <td>0</td>\n",
       "      <td>1</td>\n",
       "    </tr>\n",
       "    <tr>\n",
       "      <th>327</th>\n",
       "      <td>328</td>\n",
       "      <td>35</td>\n",
       "      <td>Private</td>\n",
       "      <td>187119</td>\n",
       "      <td>Bachelors</td>\n",
       "      <td>13</td>\n",
       "      <td>Divorced</td>\n",
       "      <td>Sales</td>\n",
       "      <td>Not-in-family</td>\n",
       "      <td>White</td>\n",
       "      <td>...</td>\n",
       "      <td>0</td>\n",
       "      <td>0</td>\n",
       "      <td>0</td>\n",
       "      <td>0</td>\n",
       "      <td>1</td>\n",
       "      <td>0</td>\n",
       "      <td>0</td>\n",
       "      <td>0</td>\n",
       "      <td>1</td>\n",
       "      <td>0</td>\n",
       "    </tr>\n",
       "    <tr>\n",
       "      <th>26880</th>\n",
       "      <td>26881</td>\n",
       "      <td>38</td>\n",
       "      <td>Private</td>\n",
       "      <td>185203</td>\n",
       "      <td>HS-grad</td>\n",
       "      <td>9</td>\n",
       "      <td>Widowed</td>\n",
       "      <td>Other-service</td>\n",
       "      <td>Unmarried</td>\n",
       "      <td>White</td>\n",
       "      <td>...</td>\n",
       "      <td>0</td>\n",
       "      <td>0</td>\n",
       "      <td>0</td>\n",
       "      <td>0</td>\n",
       "      <td>1</td>\n",
       "      <td>0</td>\n",
       "      <td>0</td>\n",
       "      <td>0</td>\n",
       "      <td>0</td>\n",
       "      <td>0</td>\n",
       "    </tr>\n",
       "    <tr>\n",
       "      <th>27653</th>\n",
       "      <td>27654</td>\n",
       "      <td>51</td>\n",
       "      <td>Private</td>\n",
       "      <td>142835</td>\n",
       "      <td>11th</td>\n",
       "      <td>7</td>\n",
       "      <td>Married-civ-spouse</td>\n",
       "      <td>Machine-op-inspct</td>\n",
       "      <td>Husband</td>\n",
       "      <td>White</td>\n",
       "      <td>...</td>\n",
       "      <td>0</td>\n",
       "      <td>0</td>\n",
       "      <td>0</td>\n",
       "      <td>0</td>\n",
       "      <td>1</td>\n",
       "      <td>0</td>\n",
       "      <td>0</td>\n",
       "      <td>0</td>\n",
       "      <td>0</td>\n",
       "      <td>0</td>\n",
       "    </tr>\n",
       "  </tbody>\n",
       "</table>\n",
       "<p>5 rows × 145 columns</p>\n",
       "</div>"
      ],
      "text/plain": [
       "          ID  age workclass  fnlwgt     education  education-num  \\\n",
       "13142  13143   28   Private  394927  Some-college             10   \n",
       "23867  23868   45   Private  165484     Doctorate             16   \n",
       "327      328   35   Private  187119     Bachelors             13   \n",
       "26880  26881   38   Private  185203       HS-grad              9   \n",
       "27653  27654   51   Private  142835          11th              7   \n",
       "\n",
       "           marital-status         occupation   relationship   race   ...     \\\n",
       "13142  Married-civ-spouse       Tech-support        Husband  White   ...      \n",
       "23867  Married-civ-spouse     Prof-specialty        Husband  White   ...      \n",
       "327              Divorced              Sales  Not-in-family  White   ...      \n",
       "26880             Widowed      Other-service      Unmarried  White   ...      \n",
       "27653  Married-civ-spouse  Machine-op-inspct        Husband  White   ...      \n",
       "\n",
       "      native-country_South  native-country_Taiwan  native-country_Thailand  \\\n",
       "13142                    0                      0                        0   \n",
       "23867                    0                      0                        0   \n",
       "327                      0                      0                        0   \n",
       "26880                    0                      0                        0   \n",
       "27653                    0                      0                        0   \n",
       "\n",
       "       native-country_Trinadad&Tobago native-country_United-States  \\\n",
       "13142                               0                            1   \n",
       "23867                               0                            1   \n",
       "327                                 0                            1   \n",
       "26880                               0                            1   \n",
       "27653                               0                            1   \n",
       "\n",
       "      native-country_Vietnam native-country_Yugoslavia CapitalGain  \\\n",
       "13142                      0                         0           0   \n",
       "23867                      0                         0           0   \n",
       "327                        0                         0           0   \n",
       "26880                      0                         0           0   \n",
       "27653                      0                         0           0   \n",
       "\n",
       "      CapitalLoss Response  \n",
       "13142           0        1  \n",
       "23867           0        1  \n",
       "327             1        0  \n",
       "26880           0        0  \n",
       "27653           0        0  \n",
       "\n",
       "[5 rows x 145 columns]"
      ]
     },
     "execution_count": 14,
     "metadata": {},
     "output_type": "execute_result"
    }
   ],
   "source": [
    "VariablesDummies = pd.get_dummies(Data[Variables]) \n",
    "VariablesDummies['CapitalGain'] = np.where(Data['capital-gain']>0,1,0) \n",
    "VariablesDummies['CapitalLoss'] = np.where(Data['capital-loss']>0,1,0) \n",
    "PredictorVariables = VariablesDummies.columns\n",
    "\n",
    "Data[PredictorVariables] = VariablesDummies\n",
    "Data['Response'] = np.where(Data[Response]=='>50K',1,0)\n",
    "Data.sample(5)"
   ]
  },
  {
   "cell_type": "markdown",
   "metadata": {},
   "source": [
    "## Split data to train and test datasets"
   ]
  },
  {
   "cell_type": "code",
   "execution_count": 15,
   "metadata": {},
   "outputs": [],
   "source": [
    "DataTrain, DataTest = train_test_split(Data, test_size=0.3, random_state=42)"
   ]
  },
  {
   "cell_type": "code",
   "execution_count": 16,
   "metadata": {},
   "outputs": [],
   "source": [
    "X_train = DataTrain[PredictorVariables]\n",
    "X_test = DataTest[PredictorVariables]\n",
    "y_train = DataTrain['Response']\n",
    "y_test = DataTest['Response']"
   ]
  },
  {
   "cell_type": "markdown",
   "metadata": {},
   "source": [
    "# 5. Run classifier algorithms"
   ]
  },
  {
   "cell_type": "markdown",
   "metadata": {},
   "source": [
    "## Create classifiers"
   ]
  },
  {
   "cell_type": "code",
   "execution_count": 17,
   "metadata": {},
   "outputs": [],
   "source": [
    "# Create classifiers\n",
    "LGR = LogisticRegression()\n",
    "RFC = RandomForestClassifier(n_estimators=50)"
   ]
  },
  {
   "cell_type": "markdown",
   "metadata": {},
   "source": [
    "### Logistic Regression (LGR)"
   ]
  },
  {
   "cell_type": "code",
   "execution_count": 18,
   "metadata": {},
   "outputs": [
    {
     "name": "stderr",
     "output_type": "stream",
     "text": [
      "C:\\ProgramData\\Anaconda3\\lib\\site-packages\\ipykernel_launcher.py:3: SettingWithCopyWarning: \n",
      "A value is trying to be set on a copy of a slice from a DataFrame.\n",
      "Try using .loc[row_indexer,col_indexer] = value instead\n",
      "\n",
      "See the caveats in the documentation: http://pandas.pydata.org/pandas-docs/stable/indexing.html#indexing-view-versus-copy\n",
      "  This is separate from the ipykernel package so we can avoid doing imports until\n"
     ]
    }
   ],
   "source": [
    "LGR.fit(X_train, y_train)\n",
    "prob_pos_LGR = LGR.predict_proba(X_test)[:, 1]\n",
    "DataTest['Probability_LGR'] = LGR.predict_proba(X_test)[:, 1]"
   ]
  },
  {
   "cell_type": "markdown",
   "metadata": {},
   "source": [
    "### Random Forest Classifier (RFC)"
   ]
  },
  {
   "cell_type": "code",
   "execution_count": 19,
   "metadata": {},
   "outputs": [
    {
     "name": "stderr",
     "output_type": "stream",
     "text": [
      "C:\\ProgramData\\Anaconda3\\lib\\site-packages\\ipykernel_launcher.py:3: SettingWithCopyWarning: \n",
      "A value is trying to be set on a copy of a slice from a DataFrame.\n",
      "Try using .loc[row_indexer,col_indexer] = value instead\n",
      "\n",
      "See the caveats in the documentation: http://pandas.pydata.org/pandas-docs/stable/indexing.html#indexing-view-versus-copy\n",
      "  This is separate from the ipykernel package so we can avoid doing imports until\n"
     ]
    }
   ],
   "source": [
    "RFC.fit(X_train, y_train)\n",
    "prob_pos_RFC = RFC.predict_proba(X_test)[:, 1]\n",
    "DataTest['Probability_RFC'] = RFC.predict_proba(X_test)[:, 1]"
   ]
  },
  {
   "cell_type": "markdown",
   "metadata": {},
   "source": [
    "# 6. Evaluate Model Performance"
   ]
  },
  {
   "cell_type": "markdown",
   "metadata": {},
   "source": [
    "##  Claibration Curves"
   ]
  },
  {
   "cell_type": "code",
   "execution_count": 20,
   "metadata": {},
   "outputs": [],
   "source": [
    "fraction_of_positives_LGR, mean_predicted_value_LGR = calibration_curve(y_test, DataTest['Probability_LGR'], n_bins=10)\n",
    "fraction_of_positives_RFC, mean_predicted_value_RFC = calibration_curve(y_test, DataTest['Probability_RFC'], n_bins=10)"
   ]
  },
  {
   "cell_type": "code",
   "execution_count": 21,
   "metadata": {},
   "outputs": [
    {
     "data": {
      "image/png": "[encoded data removed]",
      "text/plain": [
       "<Figure size 720x720 with 2 Axes>"
      ]
     },
     "metadata": {},
     "output_type": "display_data"
    }
   ],
   "source": [
    "plt.figure(figsize=(10, 10))\n",
    "ax1 = plt.subplot2grid((3, 1), (0, 0), rowspan=2)\n",
    "ax2 = plt.subplot2grid((3, 1), (2, 0))\n",
    "ax1.plot([0, 1], [0, 1], \"k:\", label=\"Perfectly calibrated\")\n",
    "\n",
    "ax1.plot(mean_predicted_value_LGR, fraction_of_positives_LGR, \"s-\", label=\"%s\" % ('LGR', ))\n",
    "ax1.plot(mean_predicted_value_RFC, fraction_of_positives_RFC, \"s-\", label=\"%s\" % ('RFC', ))\n",
    "\n",
    "ax2.hist(DataTest['Probability_LGR'], range=(0, 1), bins=10, label='LGR', histtype=\"step\", lw=2)\n",
    "ax2.hist(DataTest['Probability_RFC'], range=(0, 1), bins=10, label='RFC', histtype=\"step\", lw=2)\n",
    "\n",
    "ax1.set_ylabel(\"Fraction of positives\")\n",
    "ax1.set_ylim([-0.05, 1.05])\n",
    "ax1.legend(loc=\"lower right\")\n",
    "ax1.set_title('Calibration plots  (reliability curve)')\n",
    "\n",
    "ax2.set_xlabel(\"Mean predicted value\")\n",
    "ax2.set_ylabel(\"Count\")\n",
    "ax2.legend(loc=\"upper center\", ncol=2)\n",
    "\n",
    "plt.tight_layout()\n",
    "plt.show()"
   ]
  },
  {
   "cell_type": "markdown",
   "metadata": {},
   "source": [
    "## ROC Curve\n",
    "### True Positive Rate (TPR) vs.False Positive Rate (FPR)\n",
    "#### References\n",
    "* T. Fawcett, An introduction to ROC analysis, Pattern Recognition Letters, Volume 27, Issue 8, June 2006, Pages 861-874. doi.org/10.1016/j.patrec.2005.10.010. \n",
    "* sklearn.metrics.roc_curve, http://scikit-learn.org/stable/modules/generated/sklearn.metrics.roc_curve.html"
   ]
  },
  {
   "cell_type": "code",
   "execution_count": 22,
   "metadata": {},
   "outputs": [],
   "source": [
    "FPR_LGR, TPR_LGR, _ = roc_curve(y_test, prob_pos_LGR)\n",
    "FPR_RFC, TPR_RFC, _ = roc_curve(y_test, prob_pos_RFC)"
   ]
  },
  {
   "cell_type": "code",
   "execution_count": 23,
   "metadata": {},
   "outputs": [
    {
     "data": {
      "image/png": "[encoded data removed]",
      "text/plain": [
       "<Figure size 432x288 with 1 Axes>"
      ]
     },
     "metadata": {},
     "output_type": "display_data"
    }
   ],
   "source": [
    "plt.figure(1)\n",
    "plt.plot([0, 1], [0, 1], 'k--')\n",
    "plt.plot(FPR_LGR, TPR_LGR, label='LGR')\n",
    "plt.plot(FPR_RFC, TPR_RFC, label='RFC')\n",
    "plt.xlabel('False positive rate')\n",
    "plt.ylabel('True positive rate')\n",
    "plt.title('ROC curve')\n",
    "plt.legend(loc='best')\n",
    "plt.show()"
   ]
  },
  {
   "cell_type": "markdown",
   "metadata": {},
   "source": [
    "## Generate Predicted Value (Score)"
   ]
  },
  {
   "cell_type": "code",
   "execution_count": 24,
   "metadata": {},
   "outputs": [
    {
     "name": "stderr",
     "output_type": "stream",
     "text": [
      "C:\\ProgramData\\Anaconda3\\lib\\site-packages\\ipykernel_launcher.py:1: SettingWithCopyWarning: \n",
      "A value is trying to be set on a copy of a slice from a DataFrame.\n",
      "Try using .loc[row_indexer,col_indexer] = value instead\n",
      "\n",
      "See the caveats in the documentation: http://pandas.pydata.org/pandas-docs/stable/indexing.html#indexing-view-versus-copy\n",
      "  \"\"\"Entry point for launching an IPython kernel.\n",
      "C:\\ProgramData\\Anaconda3\\lib\\site-packages\\ipykernel_launcher.py:2: SettingWithCopyWarning: \n",
      "A value is trying to be set on a copy of a slice from a DataFrame.\n",
      "Try using .loc[row_indexer,col_indexer] = value instead\n",
      "\n",
      "See the caveats in the documentation: http://pandas.pydata.org/pandas-docs/stable/indexing.html#indexing-view-versus-copy\n",
      "  \n"
     ]
    }
   ],
   "source": [
    "DataTest['Predicted_LGR'] = np.where(DataTest['Probability_LGR']>0.4,1,0)\n",
    "DataTest['Predicted_RFC'] = np.where(DataTest['Probability_RFC']>0.4,1,0)"
   ]
  },
  {
   "cell_type": "markdown",
   "metadata": {},
   "source": [
    "## Confusion Matrix\n",
    "### CF[actual, predicted]"
   ]
  },
  {
   "cell_type": "code",
   "execution_count": 25,
   "metadata": {},
   "outputs": [],
   "source": [
    "def ConfusionMatrix(ActualColumn, PredictedColumn, labels=None, sample_weight=None, Totals=False):\n",
    "    from sklearn.metrics import confusion_matrix\n",
    "    CF = confusion_matrix(ActualColumn,PredictedColumn, labels=labels)\n",
    "    CF = pd.DataFrame(data=CF)\n",
    "    \n",
    "    if Totals==True:\n",
    "        CF[2] = CF.sum(axis=1)\n",
    "        CF.loc[2] = CF.sum(axis=0)  \n",
    "        TotalsLabel= [['Total'], ['']]\n",
    "    else:\n",
    "        TotalsLabel= [[],[]]\n",
    "\n",
    "    ColNames = [['Predicted']*len(labels)+TotalsLabel[0], labels+TotalsLabel[1]]\n",
    "    RowNames = [['Actual']*len(labels)+TotalsLabel[0], labels+TotalsLabel[1]]\n",
    "    columns = pd.MultiIndex.from_arrays(ColNames)\n",
    "    index = pd.MultiIndex.from_arrays(RowNames)    \n",
    "    CF.index = index\n",
    "    CF.columns=columns\n",
    "    \n",
    "    return CF"
   ]
  },
  {
   "cell_type": "code",
   "execution_count": 26,
   "metadata": {},
   "outputs": [
    {
     "data": {
      "text/html": [
       "<div>\n",
       "<style scoped>\n",
       "    .dataframe tbody tr th:only-of-type {\n",
       "        vertical-align: middle;\n",
       "    }\n",
       "\n",
       "    .dataframe tbody tr th {\n",
       "        vertical-align: top;\n",
       "    }\n",
       "\n",
       "    .dataframe thead tr th {\n",
       "        text-align: left;\n",
       "    }\n",
       "</style>\n",
       "<table border=\"1\" class=\"dataframe\">\n",
       "  <thead>\n",
       "    <tr>\n",
       "      <th></th>\n",
       "      <th></th>\n",
       "      <th colspan=\"2\" halign=\"left\">Predicted</th>\n",
       "      <th>Total</th>\n",
       "    </tr>\n",
       "    <tr>\n",
       "      <th></th>\n",
       "      <th></th>\n",
       "      <th>0</th>\n",
       "      <th>1</th>\n",
       "      <th></th>\n",
       "    </tr>\n",
       "  </thead>\n",
       "  <tbody>\n",
       "    <tr>\n",
       "      <th rowspan=\"2\" valign=\"top\">Actual</th>\n",
       "      <th>0</th>\n",
       "      <td>6640</td>\n",
       "      <td>789</td>\n",
       "      <td>7429</td>\n",
       "    </tr>\n",
       "    <tr>\n",
       "      <th>1</th>\n",
       "      <td>739</td>\n",
       "      <td>1601</td>\n",
       "      <td>2340</td>\n",
       "    </tr>\n",
       "    <tr>\n",
       "      <th>Total</th>\n",
       "      <th></th>\n",
       "      <td>7379</td>\n",
       "      <td>2390</td>\n",
       "      <td>9769</td>\n",
       "    </tr>\n",
       "  </tbody>\n",
       "</table>\n",
       "</div>"
      ],
      "text/plain": [
       "         Predicted       Total\n",
       "                 0     1      \n",
       "Actual 0      6640   789  7429\n",
       "       1       739  1601  2340\n",
       "Total         7379  2390  9769"
      ]
     },
     "execution_count": 26,
     "metadata": {},
     "output_type": "execute_result"
    }
   ],
   "source": [
    "CF_LGR = ConfusionMatrix(DataTest['Response'], DataTest['Predicted_LGR'], labels=[0,1], Totals=True)\n",
    "CF_LGR"
   ]
  },
  {
   "cell_type": "code",
   "execution_count": 27,
   "metadata": {
    "scrolled": true
   },
   "outputs": [
    {
     "data": {
      "text/html": [
       "<div>\n",
       "<style scoped>\n",
       "    .dataframe tbody tr th:only-of-type {\n",
       "        vertical-align: middle;\n",
       "    }\n",
       "\n",
       "    .dataframe tbody tr th {\n",
       "        vertical-align: top;\n",
       "    }\n",
       "\n",
       "    .dataframe thead tr th {\n",
       "        text-align: left;\n",
       "    }\n",
       "</style>\n",
       "<table border=\"1\" class=\"dataframe\">\n",
       "  <thead>\n",
       "    <tr>\n",
       "      <th></th>\n",
       "      <th></th>\n",
       "      <th colspan=\"2\" halign=\"left\">Predicted</th>\n",
       "      <th>Total</th>\n",
       "    </tr>\n",
       "    <tr>\n",
       "      <th></th>\n",
       "      <th></th>\n",
       "      <th>0</th>\n",
       "      <th>1</th>\n",
       "      <th></th>\n",
       "    </tr>\n",
       "  </thead>\n",
       "  <tbody>\n",
       "    <tr>\n",
       "      <th rowspan=\"2\" valign=\"top\">Actual</th>\n",
       "      <th>0</th>\n",
       "      <td>6518</td>\n",
       "      <td>911</td>\n",
       "      <td>7429</td>\n",
       "    </tr>\n",
       "    <tr>\n",
       "      <th>1</th>\n",
       "      <td>781</td>\n",
       "      <td>1559</td>\n",
       "      <td>2340</td>\n",
       "    </tr>\n",
       "    <tr>\n",
       "      <th>Total</th>\n",
       "      <th></th>\n",
       "      <td>7299</td>\n",
       "      <td>2470</td>\n",
       "      <td>9769</td>\n",
       "    </tr>\n",
       "  </tbody>\n",
       "</table>\n",
       "</div>"
      ],
      "text/plain": [
       "         Predicted       Total\n",
       "                 0     1      \n",
       "Actual 0      6518   911  7429\n",
       "       1       781  1559  2340\n",
       "Total         7299  2470  9769"
      ]
     },
     "execution_count": 27,
     "metadata": {},
     "output_type": "execute_result"
    }
   ],
   "source": [
    "CF_RFC = ConfusionMatrix(DataTest['Response'], DataTest['Predicted_RFC'], labels=[0,1], Totals=True)\n",
    "CF_RFC"
   ]
  },
  {
   "cell_type": "markdown",
   "metadata": {},
   "source": [
    "### Confusion Matrix Terms\n",
    "#### For a Binary Classifier\n",
    "* TN= CF[0,0], FP= CF[0,1], FN= CF[1,0], TP= CF[1,1]\n",
    "* Accuracy (ACC) = (TP+TN)/TOTAL\n",
    "* Hit Rate, Sensitivity, Recall or True Positive Rate (TPR) = TP/(TP+FN)\n",
    "* False Positive Rate (FPR) = FP/(FP+TN) \n",
    "* Specificity or True Negative Rate (TNR) = TN/(FP+TN)\n",
    "* Miss Rate or False Negative rate (FNR) = FN/(FN+TP) \n",
    "* Positive Predictive Value or Precision (PPV) = TP/(TP+FP) \n",
    "* Harmonic Mean of Precision and Sensitivity or F1 score (F1) = 2TP/(2TP+FP+FN)\n",
    "\n",
    "#### For a Multi-class Classifier\n",
    "* TPS = Diagonal(CF)\n",
    "* SUCCESS = Sum(TPS)\n",
    "* Sum of Actual Conditions (ASUM) = RowSum(CF)\n",
    "* Sum of Predicted conditions (PSUM) = ColumnsSum(CF)\n",
    "* Positive Predictive Value or Precision for Class i (PPV[i]) = TPS[i]/PSUM\n",
    "* Hit Rate, Sensitivity, Recall or True Positive Rate for Class i (TPR[i]) = TPS[i]/ASUM\n",
    "\n",
    "##### References: \n",
    "* C. Beleites, R. Salzer, V. Sergo, Validation of soft classification models using partial class memberships: An extended concept of sensitivity & co. applied to grading of astrocytoma tissues, Chemometrics and Intelligent Laboratory Systems Volume 122, 15 March 2013, Pages 12-22. doi.org/10.1016/j.chemolab.2012.12.003.\n",
    "* sklearn.metrics.confusion_matrix, http://scikit-learn.org/stable/modules/generated/sklearn.metrics.confusion_matrix.html\n",
    "* Confusion Matrix, http://www2.cs.uregina.ca/~dbd/cs831/notes/ROC/ROC.html.\n",
    "\n",
    "\n"
   ]
  },
  {
   "cell_type": "code",
   "execution_count": 28,
   "metadata": {},
   "outputs": [],
   "source": [
    "def ConfusionMatrixTerms(CF, ModelID='M'):     \n",
    "    if CF.columns.values[-1][0]=='Total':        \n",
    "        Labels= CF.columns.levels[1].values[:-1]\n",
    "        CF= CF.values[:-1,:-1]\n",
    "    else:\n",
    "        Labels= CF.columns.levels[1].values\n",
    "        CF= CF.values\n",
    "        \n",
    "    if len(CF)==2:\n",
    "        # Compute confusion matrix\n",
    "        TN = CF[0,0]\n",
    "        FP = CF[0,1]\n",
    "        FN = CF[1,0]\n",
    "        TP = CF[1,1]\n",
    "        TOTAL = TN+FP+FN+TP   \n",
    "\n",
    "        CFTERMS = pd.DataFrame(data=[[TN, FP, FN, TP, TOTAL]], columns=['TN', 'FP', 'FN', 'TP', 'TOTAL'])\n",
    "        CFTERMS.insert(0, 'ModelID', ModelID)\n",
    "\n",
    "        CFTERMS['P1'] = FP+TP\n",
    "        CFTERMS['P0'] = TN+FN\n",
    "        CFTERMS['A1'] = TP+FN\n",
    "        CFTERMS['A0'] = FP+TN\n",
    "\n",
    "        CFTERMS['TPR'] = TP/(TP+FN) #TP/A1\n",
    "        CFTERMS['TNR'] = TN/(FP+TN) #TN/A0\n",
    "        CFTERMS['FPR'] = FP/(FP+TN) #FP/A0    \n",
    "        CFTERMS['FNR'] = FN/(FN+TP) #FN/A1\n",
    "\n",
    "        CFTERMS['PPV'] = TP/(TP+FP) #TP/P1W\n",
    "        CFTERMS['ACC'] = (TP+TN)/TOTAL\n",
    "        CFTERMS['F1'] = 2*TP/(2*TP+FP+FN)\n",
    "        \n",
    "    else:  \n",
    "        TOTAL = np.sum(CF)\n",
    "        TPS = np.diagonal(CF)\n",
    "        SUCCESS = np.sum(TPS) #np.trace(CF)\n",
    "        \n",
    "        ASUM = np.sum(CF,axis=1) #Sum of Actual Conditions\n",
    "        PSUM = np.sum(CF,axis=0) #Sum of Predicted conditions\n",
    "        PPV = TPS/PSUM\n",
    "        TPR = TPS/ASUM\n",
    "               \n",
    "        CFTERMS = pd.DataFrame(data=[[ModelID, TOTAL, SUCCESS]], columns=['ModelID', 'TOTAL', 'SUCCESS'])\n",
    "        CFTERMS['ACC'] = SUCCESS/TOTAL  \n",
    "        for i in range(len(Labels)):\n",
    "            label = str(Labels[i])\n",
    "            CFTERMS[label+'_PPV']=PPV[i]\n",
    "            CFTERMS[label+'_TPR']=TPR[i]\n",
    "            \n",
    "    return CFTERMS"
   ]
  },
  {
   "cell_type": "code",
   "execution_count": 29,
   "metadata": {},
   "outputs": [
    {
     "data": {
      "text/html": [
       "<div>\n",
       "<style scoped>\n",
       "    .dataframe tbody tr th:only-of-type {\n",
       "        vertical-align: middle;\n",
       "    }\n",
       "\n",
       "    .dataframe tbody tr th {\n",
       "        vertical-align: top;\n",
       "    }\n",
       "\n",
       "    .dataframe thead th {\n",
       "        text-align: right;\n",
       "    }\n",
       "</style>\n",
       "<table border=\"1\" class=\"dataframe\">\n",
       "  <thead>\n",
       "    <tr style=\"text-align: right;\">\n",
       "      <th></th>\n",
       "      <th>ModelID</th>\n",
       "      <th>TN</th>\n",
       "      <th>FP</th>\n",
       "      <th>FN</th>\n",
       "      <th>TP</th>\n",
       "      <th>TOTAL</th>\n",
       "      <th>P1</th>\n",
       "      <th>P0</th>\n",
       "      <th>A1</th>\n",
       "      <th>A0</th>\n",
       "      <th>TPR</th>\n",
       "      <th>TNR</th>\n",
       "      <th>FPR</th>\n",
       "      <th>FNR</th>\n",
       "      <th>PPV</th>\n",
       "      <th>ACC</th>\n",
       "      <th>F1</th>\n",
       "    </tr>\n",
       "  </thead>\n",
       "  <tbody>\n",
       "    <tr>\n",
       "      <th>0</th>\n",
       "      <td>LGR</td>\n",
       "      <td>6640</td>\n",
       "      <td>789</td>\n",
       "      <td>739</td>\n",
       "      <td>1601</td>\n",
       "      <td>9769</td>\n",
       "      <td>2390</td>\n",
       "      <td>7379</td>\n",
       "      <td>2340</td>\n",
       "      <td>7429</td>\n",
       "      <td>0.684188</td>\n",
       "      <td>0.893795</td>\n",
       "      <td>0.106205</td>\n",
       "      <td>0.315812</td>\n",
       "      <td>0.669874</td>\n",
       "      <td>0.843587</td>\n",
       "      <td>0.676956</td>\n",
       "    </tr>\n",
       "    <tr>\n",
       "      <th>1</th>\n",
       "      <td>RFC</td>\n",
       "      <td>6518</td>\n",
       "      <td>911</td>\n",
       "      <td>781</td>\n",
       "      <td>1559</td>\n",
       "      <td>9769</td>\n",
       "      <td>2470</td>\n",
       "      <td>7299</td>\n",
       "      <td>2340</td>\n",
       "      <td>7429</td>\n",
       "      <td>0.666239</td>\n",
       "      <td>0.877372</td>\n",
       "      <td>0.122628</td>\n",
       "      <td>0.333761</td>\n",
       "      <td>0.631174</td>\n",
       "      <td>0.826799</td>\n",
       "      <td>0.648233</td>\n",
       "    </tr>\n",
       "  </tbody>\n",
       "</table>\n",
       "</div>"
      ],
      "text/plain": [
       "  ModelID    TN   FP   FN    TP  TOTAL    P1    P0    A1    A0       TPR  \\\n",
       "0     LGR  6640  789  739  1601   9769  2390  7379  2340  7429  0.684188   \n",
       "1     RFC  6518  911  781  1559   9769  2470  7299  2340  7429  0.666239   \n",
       "\n",
       "        TNR       FPR       FNR       PPV       ACC        F1  \n",
       "0  0.893795  0.106205  0.315812  0.669874  0.843587  0.676956  \n",
       "1  0.877372  0.122628  0.333761  0.631174  0.826799  0.648233  "
      ]
     },
     "execution_count": 29,
     "metadata": {},
     "output_type": "execute_result"
    }
   ],
   "source": [
    "CFTERMS= ConfusionMatrixTerms(CF_LGR, ModelID='LGR')\n",
    "CFTERMS.append(ConfusionMatrixTerms(CF_RFC, ModelID='RFC'),ignore_index=True)"
   ]
  }
 ],
 "metadata": {
  "kernelspec": {
   "display_name": "Python 3",
   "language": "python",
   "name": "python3"
  },
  "language_info": {
   "codemirror_mode": {
    "name": "ipython",
    "version": 3
   },
   "file_extension": ".py",
   "mimetype": "text/x-python",
   "name": "python",
   "nbconvert_exporter": "python",
   "pygments_lexer": "ipython3",
   "version": "3.6.5"
  }
 },
 "nbformat": 4,
 "nbformat_minor": 2
}
